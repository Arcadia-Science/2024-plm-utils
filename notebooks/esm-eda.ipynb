{
 "cells": [
  {
   "cell_type": "markdown",
   "id": "3fe84f97-140e-47f2-a656-5952a863a423",
   "metadata": {},
   "source": [
    "## Basic ESM exploration\n",
    "__Feb 2024__\n",
    "__Keith Cheveralls__\n",
    "\n",
    "This starts from the example code in the ESM readme. "
   ]
  },
  {
   "cell_type": "code",
   "execution_count": 2,
   "id": "5f65b01b-6a44-4083-8885-710e5013d3ee",
   "metadata": {},
   "outputs": [],
   "source": [
    "import torch\n",
    "import esm\n",
    "import numpy as np"
   ]
  },
  {
   "cell_type": "code",
   "execution_count": 12,
   "id": "f88005a7-675d-4d6b-9af1-eec3c6a7b45b",
   "metadata": {},
   "outputs": [
    {
     "data": {
      "text/plain": [
       "'/home/keith/projects/esm/esm/__init__.py'"
      ]
     },
     "execution_count": 12,
     "metadata": {},
     "output_type": "execute_result"
    }
   ],
   "source": [
    "esm.__file__"
   ]
  },
  {
   "cell_type": "code",
   "execution_count": 8,
   "id": "cb25929a-ed3f-4eed-992d-200bd88f7322",
   "metadata": {},
   "outputs": [],
   "source": [
    "import orfipy"
   ]
  },
  {
   "cell_type": "code",
   "execution_count": 9,
   "id": "9b1416c5-5170-4b5d-993a-f7601971dd1d",
   "metadata": {},
   "outputs": [
    {
     "data": {
      "text/plain": [
       "<module 'orfipy' from '/home/keith/miniforge3/envs/esm-py311-env/lib/python3.11/site-packages/orfipy/__init__.py'>"
      ]
     },
     "execution_count": 9,
     "metadata": {},
     "output_type": "execute_result"
    }
   ],
   "source": [
    "orfipy"
   ]
  },
  {
   "cell_type": "code",
   "execution_count": 3,
   "id": "b85243f0-019a-45d8-bd63-f399b8788778",
   "metadata": {},
   "outputs": [],
   "source": [
    "# for some reason these import statements must be called explicitly, and in this order\n",
    "import esm.data\n",
    "import esm.pretrained"
   ]
  },
  {
   "cell_type": "code",
   "execution_count": 4,
   "id": "330b21ce-fa9d-4db5-8eb4-2d5400229f44",
   "metadata": {},
   "outputs": [],
   "source": [
    "import matplotlib.pyplot as plt"
   ]
  },
  {
   "cell_type": "code",
   "execution_count": 5,
   "id": "9a9d8c42-1224-4542-966b-e9f3aea542a6",
   "metadata": {},
   "outputs": [
    {
     "data": {
      "text/plain": [
       "True"
      ]
     },
     "execution_count": 5,
     "metadata": {},
     "output_type": "execute_result"
    }
   ],
   "source": [
    "torch.cuda.is_available()"
   ]
  },
  {
   "cell_type": "code",
   "execution_count": 6,
   "id": "83edd81f-c2b7-4122-bbdc-b6aa6eb9754c",
   "metadata": {},
   "outputs": [],
   "source": [
    "model, alphabet = esm.pretrained.esm2_t33_650M_UR50D()\n",
    "batch_converter = alphabet.get_batch_converter()\n",
    "model.eval()\n",
    "\n",
    "data = [\n",
    "    (\"protein1\", \"MKTVRQERLKSIVRILERSKEPVSGAQLAEELSVSRQVIVQDIAYLRSLGYNIVATPRGYVLAGG\"),\n",
    "    (\"protein2\", \"KALTARQQEVFDLIRDHISQTGMPPTRAEIAQRLGFRSPNAAEEHLKALARKGVIEIVSGASRGIRLLQEE\"),\n",
    "]"
   ]
  },
  {
   "cell_type": "code",
   "execution_count": 7,
   "id": "600a5448-fe75-472c-a40d-8660f72db42f",
   "metadata": {},
   "outputs": [],
   "source": [
    "batch_labels, batch_strs, batch_tokens = batch_converter(data)\n",
    "\n",
    "# this is the sequence length \n",
    "# (in tokens, not amino acids; they appear to be only approx equal)\n",
    "batch_lens = (batch_tokens != alphabet.padding_idx).sum(1)"
   ]
  },
  {
   "cell_type": "code",
   "execution_count": 8,
   "id": "603cc1d3-1386-4185-a485-45dcb3ff5b91",
   "metadata": {},
   "outputs": [],
   "source": [
    "# Extract per-residue representations\n",
    "with torch.no_grad():\n",
    "    results = model(batch_tokens, repr_layers=[33], return_contacts=True)\n",
    "\n",
    "token_representations = results[\"representations\"][33]"
   ]
  },
  {
   "cell_type": "code",
   "execution_count": 19,
   "id": "fa68dd5f-be5e-4acb-8c4b-eeddfb8046ac",
   "metadata": {},
   "outputs": [
    {
     "data": {
      "text/plain": [
       "torch.Size([4, 73, 1280])"
      ]
     },
     "execution_count": 19,
     "metadata": {},
     "output_type": "execute_result"
    }
   ],
   "source": [
    "token_representations.shape"
   ]
  },
  {
   "cell_type": "code",
   "execution_count": null,
   "id": "41942d7c-a727-4347-9184-efdcbf24b995",
   "metadata": {},
   "outputs": [],
   "source": [
    "# Generate per-sequence representations via averaging\n",
    "# NOTE: token 0 is always a beginning-of-sequence token, so the first residue is token 1.\n",
    "sequence_representations = []\n",
    "for i, tokens_len in enumerate(batch_lens):\n",
    "    sequence_representations.append(token_representations[i, 1 : tokens_len - 1].mean(0))"
   ]
  },
  {
   "cell_type": "code",
   "execution_count": 25,
   "id": "1c41cd9a-9361-4042-8b82-3a1e8e4cf675",
   "metadata": {},
   "outputs": [
    {
     "data": {
      "text/plain": [
       "(4, 1280)"
      ]
     },
     "execution_count": 25,
     "metadata": {},
     "output_type": "execute_result"
    }
   ],
   "source": [
    "np.array(sequence_representations).shape"
   ]
  },
  {
   "cell_type": "code",
   "execution_count": null,
   "id": "0ed78284-938d-4e67-b184-8e0f37173536",
   "metadata": {},
   "outputs": [],
   "source": [
    "# Look at the unsupervised self-attention map contact predictions\n",
    "for (_, seq), tokens_len, attention_contacts in zip(data, batch_lens, results[\"contacts\"]):\n",
    "    plt.matshow(attention_contacts[: tokens_len, : tokens_len])\n",
    "    plt.title(seq)\n",
    "    plt.show()"
   ]
  },
  {
   "cell_type": "code",
   "execution_count": null,
   "id": "9c08c0b8-dcba-43b3-9662-b8e38022239c",
   "metadata": {},
   "outputs": [],
   "source": []
  },
  {
   "cell_type": "code",
   "execution_count": 10,
   "id": "0336c2a0-3d41-4c4b-b6d9-4933a96cd78a",
   "metadata": {},
   "outputs": [
    {
     "data": {
      "text/plain": [
       "(913, 320)"
      ]
     },
     "execution_count": 10,
     "metadata": {},
     "output_type": "execute_result"
    }
   ],
   "source": [
    "x = np.load('../tmp-embed.npy')\n",
    "x.shape"
   ]
  },
  {
   "cell_type": "code",
   "execution_count": 11,
   "id": "4ce4a8ef-8308-42c6-8d10-330f5f23c400",
   "metadata": {},
   "outputs": [
    {
     "data": {
      "text/plain": [
       "array([[-0.03010962, -0.3098611 ,  0.21479861, ...,  0.18719758,\n",
       "         0.13682021,  0.2104919 ],\n",
       "       [ 0.08378489, -0.23092562,  0.26359186, ...,  0.05840705,\n",
       "         0.17555174,  0.12873918],\n",
       "       [-0.05495199, -0.20750748,  0.08342266, ...,  0.15368064,\n",
       "         0.19967808,  0.07173502],\n",
       "       ...,\n",
       "       [-0.01662284, -0.10068058,  0.03329022, ...,  0.2388579 ,\n",
       "        -0.0273346 , -0.0422569 ],\n",
       "       [-0.00831649, -0.06697933,  0.08197283, ...,  0.04316371,\n",
       "         0.06036634,  0.03868119],\n",
       "       [ 0.04358827, -0.02912711,  0.08511164, ...,  0.00952161,\n",
       "         0.0476016 ,  0.03955315]], dtype=float32)"
      ]
     },
     "execution_count": 11,
     "metadata": {},
     "output_type": "execute_result"
    }
   ],
   "source": [
    "x"
   ]
  },
  {
   "cell_type": "code",
   "execution_count": null,
   "id": "b7062782-82ff-4835-88e4-af859d9530b9",
   "metadata": {},
   "outputs": [],
   "source": []
  },
  {
   "cell_type": "code",
   "execution_count": null,
   "id": "a7b30260-ff5c-4786-8b22-d7aeb41680e1",
   "metadata": {},
   "outputs": [],
   "source": []
  }
 ],
 "metadata": {
  "kernelspec": {
   "display_name": "esm-py311-env",
   "language": "python",
   "name": "esm-py311-env"
  },
  "language_info": {
   "codemirror_mode": {
    "name": "ipython",
    "version": 3
   },
   "file_extension": ".py",
   "mimetype": "text/x-python",
   "name": "python",
   "nbconvert_exporter": "python",
   "pygments_lexer": "ipython3",
   "version": "3.11.7"
  }
 },
 "nbformat": 4,
 "nbformat_minor": 5
}
